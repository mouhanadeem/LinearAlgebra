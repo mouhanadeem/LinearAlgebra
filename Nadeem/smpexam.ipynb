{
 "cells": [
  {
   "cell_type": "markdown",
   "metadata": {},
   "source": [
    "Libraries"
   ]
  },
  {
   "cell_type": "code",
   "execution_count": 6,
   "metadata": {},
   "outputs": [],
   "source": [
    "# Import relevant libraries here\n",
    "from scipy import stats\n",
    "import numpy as np\n",
    "import pandas as pd\n",
    "import sympy as sp\n",
    "from sympy import *\n",
    "import matplotlib.pyplot as plt\n",
    "from scipy.stats import geom\n",
    "from scipy.stats import hypergeom\n",
    "from scipy.stats import poisson\n",
    "from scipy.stats import binom\n",
    "import math "
   ]
  },
  {
   "cell_type": "markdown",
   "metadata": {},
   "source": [
    "Assignment 7"
   ]
  },
  {
   "cell_type": "code",
   "execution_count": 24,
   "metadata": {},
   "outputs": [
    {
     "data": {
      "text/plain": [
       "0.8043550340879536"
      ]
     },
     "execution_count": 24,
     "metadata": {},
     "output_type": "execute_result"
    }
   ],
   "source": [
    "b=(300*8730-(300*731*300*588))/(300*6363-(300*731)**2)\n",
    "b"
   ]
  },
  {
   "cell_type": "code",
   "execution_count": 23,
   "metadata": {},
   "outputs": [
    {
     "data": {
      "text/plain": [
       "0.016470081705961093"
      ]
     },
     "execution_count": 23,
     "metadata": {},
     "output_type": "execute_result"
    }
   ],
   "source": [
    "a=588-(b*731)\n",
    "a"
   ]
  },
  {
   "cell_type": "markdown",
   "metadata": {},
   "source": [
    "Hence yhat= 0.0164 + 0.8043 x"
   ]
  },
  {
   "cell_type": "markdown",
   "metadata": {},
   "source": [
    "Assignment 6"
   ]
  },
  {
   "cell_type": "code",
   "execution_count": 36,
   "metadata": {},
   "outputs": [
    {
     "data": {
      "text/html": [
       "<div>\n",
       "<style scoped>\n",
       "    .dataframe tbody tr th:only-of-type {\n",
       "        vertical-align: middle;\n",
       "    }\n",
       "\n",
       "    .dataframe tbody tr th {\n",
       "        vertical-align: top;\n",
       "    }\n",
       "\n",
       "    .dataframe thead th {\n",
       "        text-align: right;\n",
       "    }\n",
       "</style>\n",
       "<table border=\"1\" class=\"dataframe\">\n",
       "  <thead>\n",
       "    <tr style=\"text-align: right;\">\n",
       "      <th></th>\n",
       "      <th>Unnamed: 0</th>\n",
       "      <th>price</th>\n",
       "      <th>brand</th>\n",
       "      <th>model</th>\n",
       "      <th>year</th>\n",
       "      <th>title_status</th>\n",
       "      <th>mileage</th>\n",
       "      <th>color</th>\n",
       "      <th>vin</th>\n",
       "      <th>lot</th>\n",
       "      <th>state</th>\n",
       "      <th>country</th>\n",
       "      <th>condition</th>\n",
       "      <th>catg_price</th>\n",
       "    </tr>\n",
       "  </thead>\n",
       "  <tbody>\n",
       "    <tr>\n",
       "      <th>0</th>\n",
       "      <td>0</td>\n",
       "      <td>6300</td>\n",
       "      <td>ford</td>\n",
       "      <td>cruiser</td>\n",
       "      <td>2008</td>\n",
       "      <td>clean vehicle</td>\n",
       "      <td>274117.0</td>\n",
       "      <td>black</td>\n",
       "      <td>jtezu11f88k007763</td>\n",
       "      <td>159348797</td>\n",
       "      <td>new jersey</td>\n",
       "      <td>usa</td>\n",
       "      <td>10 days left</td>\n",
       "      <td>(0, 20000]</td>\n",
       "    </tr>\n",
       "    <tr>\n",
       "      <th>1</th>\n",
       "      <td>1</td>\n",
       "      <td>2899</td>\n",
       "      <td>ford</td>\n",
       "      <td>se</td>\n",
       "      <td>2011</td>\n",
       "      <td>clean vehicle</td>\n",
       "      <td>190552.0</td>\n",
       "      <td>gray</td>\n",
       "      <td>2fmdk3gc4bbb02217</td>\n",
       "      <td>166951262</td>\n",
       "      <td>tennessee</td>\n",
       "      <td>usa</td>\n",
       "      <td>6 days left</td>\n",
       "      <td>(0, 20000]</td>\n",
       "    </tr>\n",
       "    <tr>\n",
       "      <th>2</th>\n",
       "      <td>2</td>\n",
       "      <td>5350</td>\n",
       "      <td>dodge</td>\n",
       "      <td>mpv</td>\n",
       "      <td>2018</td>\n",
       "      <td>clean vehicle</td>\n",
       "      <td>39590.0</td>\n",
       "      <td>gray</td>\n",
       "      <td>3c4pdcgg5jt346413</td>\n",
       "      <td>167655728</td>\n",
       "      <td>georgia</td>\n",
       "      <td>usa</td>\n",
       "      <td>2 days left</td>\n",
       "      <td>(0, 20000]</td>\n",
       "    </tr>\n",
       "    <tr>\n",
       "      <th>3</th>\n",
       "      <td>3</td>\n",
       "      <td>25000</td>\n",
       "      <td>ford</td>\n",
       "      <td>door</td>\n",
       "      <td>2014</td>\n",
       "      <td>clean vehicle</td>\n",
       "      <td>64146.0</td>\n",
       "      <td>blue</td>\n",
       "      <td>1ftfw1et4efc23745</td>\n",
       "      <td>167753855</td>\n",
       "      <td>virginia</td>\n",
       "      <td>usa</td>\n",
       "      <td>22 hours left</td>\n",
       "      <td>(20000, 40000]</td>\n",
       "    </tr>\n",
       "    <tr>\n",
       "      <th>4</th>\n",
       "      <td>4</td>\n",
       "      <td>27700</td>\n",
       "      <td>chevrolet</td>\n",
       "      <td>1500</td>\n",
       "      <td>2018</td>\n",
       "      <td>clean vehicle</td>\n",
       "      <td>6654.0</td>\n",
       "      <td>red</td>\n",
       "      <td>3gcpcrec2jg473991</td>\n",
       "      <td>167763266</td>\n",
       "      <td>florida</td>\n",
       "      <td>usa</td>\n",
       "      <td>22 hours left</td>\n",
       "      <td>(20000, 40000]</td>\n",
       "    </tr>\n",
       "  </tbody>\n",
       "</table>\n",
       "</div>"
      ],
      "text/plain": [
       "   Unnamed: 0  price      brand    model  year   title_status   mileage  \\\n",
       "0           0   6300       ford  cruiser  2008  clean vehicle  274117.0   \n",
       "1           1   2899       ford       se  2011  clean vehicle  190552.0   \n",
       "2           2   5350      dodge      mpv  2018  clean vehicle   39590.0   \n",
       "3           3  25000       ford     door  2014  clean vehicle   64146.0   \n",
       "4           4  27700  chevrolet     1500  2018  clean vehicle    6654.0   \n",
       "\n",
       "   color                  vin        lot       state country      condition  \\\n",
       "0  black    jtezu11f88k007763  159348797  new jersey     usa   10 days left   \n",
       "1   gray    2fmdk3gc4bbb02217  166951262   tennessee     usa    6 days left   \n",
       "2   gray    3c4pdcgg5jt346413  167655728     georgia     usa    2 days left   \n",
       "3   blue    1ftfw1et4efc23745  167753855    virginia     usa  22 hours left   \n",
       "4    red    3gcpcrec2jg473991  167763266     florida     usa  22 hours left   \n",
       "\n",
       "       catg_price  \n",
       "0      (0, 20000]  \n",
       "1      (0, 20000]  \n",
       "2      (0, 20000]  \n",
       "3  (20000, 40000]  \n",
       "4  (20000, 40000]  "
      ]
     },
     "execution_count": 36,
     "metadata": {},
     "output_type": "execute_result"
    }
   ],
   "source": [
    "#data['catg_price'] = pd.qcut(data['price'], 5, labels=range(1, 6))\n",
    "\n",
    "data['catg_price'] = pd.cut(data['price'], bins=[0, 20000, 40000, 60000, 80000])\n",
    "data.head()"
   ]
  },
  {
   "cell_type": "code",
   "execution_count": 35,
   "metadata": {},
   "outputs": [
    {
     "name": "stdout",
     "output_type": "stream",
     "text": [
      "color  black  blue  color:  gray  green  red  white  yellow\n",
      "price                                                      \n",
      "0          6     5       0    10      6    7      6       3\n",
      "25         4     1       0     4      0    1      8       0\n",
      "50         0     2       0     0      0    0      0       0\n",
      "75         0     1       0     1      0    0      0       1\n",
      "100        0     1       0     0      0    0      0       0\n",
      "...      ...   ...     ...   ...    ...  ...    ...     ...\n",
      "65500      1     0       0     0      0    0      0       0\n",
      "67000      0     1       0     0      0    0      0       0\n",
      "70000      0     0       0     1      0    0      0       0\n",
      "74000      0     0       0     1      0    0      0       0\n",
      "84900      0     0       0     1      0    0      0       0\n",
      "\n",
      "[790 rows x 8 columns]\n"
     ]
    },
    {
     "data": {
      "text/plain": [
       "'chi2_stat = 6257.769706348776'"
      ]
     },
     "metadata": {},
     "output_type": "display_data"
    },
    {
     "data": {
      "text/plain": [
       "'p-value = 9.768949768283823e-12'"
      ]
     },
     "metadata": {},
     "output_type": "display_data"
    },
    {
     "name": "stdout",
     "output_type": "stream",
     "text": [
      "As p value = 0.000 is so small so we reject the null hypothesis \n"
     ]
    }
   ],
   "source": [
    "#b\n",
    "data_crosstab = pd.crosstab(data['price'], data['color'], margins = False) \n",
    "print(data_crosstab)\n",
    "chi2_stat, p_val, dof, ex2 = stats.chi2_contingency(data_crosstab, correction=False)\n",
    "display(\"chi2_stat = \"+str(chi2_stat))\n",
    "display(\"p-value = \"+str(p_val))\n",
    "print ('As p value = 0.000 is so small so we reject the null hypothesis ')"
   ]
  },
  {
   "cell_type": "code",
   "execution_count": null,
   "metadata": {},
   "outputs": [],
   "source": []
  },
  {
   "cell_type": "code",
   "execution_count": null,
   "metadata": {},
   "outputs": [],
   "source": []
  },
  {
   "cell_type": "code",
   "execution_count": null,
   "metadata": {},
   "outputs": [],
   "source": []
  },
  {
   "cell_type": "markdown",
   "metadata": {},
   "source": [
    "Assignemnt 5"
   ]
  },
  {
   "cell_type": "code",
   "execution_count": 25,
   "metadata": {},
   "outputs": [
    {
     "name": "stdout",
     "output_type": "stream",
     "text": [
      "   Unnamed: 0  price      brand    model  year   title_status   mileage  \\\n",
      "0           0   6300       ford  cruiser  2008  clean vehicle  274117.0   \n",
      "1           1   2899       ford       se  2011  clean vehicle  190552.0   \n",
      "2           2   5350      dodge      mpv  2018  clean vehicle   39590.0   \n",
      "3           3  25000       ford     door  2014  clean vehicle   64146.0   \n",
      "4           4  27700  chevrolet     1500  2018  clean vehicle    6654.0   \n",
      "\n",
      "   color                  vin        lot       state country      condition  \n",
      "0  black    jtezu11f88k007763  159348797  new jersey     usa   10 days left  \n",
      "1   gray    2fmdk3gc4bbb02217  166951262   tennessee     usa    6 days left  \n",
      "2   gray    3c4pdcgg5jt346413  167655728     georgia     usa    2 days left  \n",
      "3   blue    1ftfw1et4efc23745  167753855    virginia     usa  22 hours left  \n",
      "4    red    3gcpcrec2jg473991  167763266     florida     usa  22 hours left  \n"
     ]
    }
   ],
   "source": [
    "data = pd.read_csv(\"cars.csv\") \n",
    "print (data.head(5))"
   ]
  },
  {
   "cell_type": "code",
   "execution_count": 27,
   "metadata": {},
   "outputs": [
    {
     "name": "stdout",
     "output_type": "stream",
     "text": [
      "brand   chevrolet  dodge  ford  gmc  hyundai  kia  nissan\n",
      "color                                                    \n",
      "black          60     80   300   14        0    3      87\n",
      "blue           16     24    76    3        2    2      36\n",
      "color:          0      0     4    0        0    0       0\n",
      "gray           81    158   395   10        6    7     117\n",
      "green           3      4    15    0        0    0       2\n",
      "red            26     54   132    2        4    1      20\n",
      "white         106    111   442   12        3    0      50\n",
      "yellow          5      1    24    1        0    0       0\n"
     ]
    },
    {
     "data": {
      "text/plain": [
       "'chi2_stat = 109.53634842655464'"
      ]
     },
     "metadata": {},
     "output_type": "display_data"
    },
    {
     "data": {
      "text/plain": [
       "'p-value = 6.161657933566457e-08'"
      ]
     },
     "metadata": {},
     "output_type": "display_data"
    },
    {
     "name": "stdout",
     "output_type": "stream",
     "text": [
      "Ho = color is independent of brand\n",
      "As p value = 0.000 is so small so we reject the null hypothesis \n"
     ]
    }
   ],
   "source": [
    "#a\n",
    "\n",
    "data_crosstab = pd.crosstab(data['color'], data['brand'], margins = False) \n",
    "print(data_crosstab)\n",
    "chi2_stat, p_val, dof, ex2 = stats.chi2_contingency(data_crosstab, correction=False)\n",
    "display(\"chi2_stat = \"+str(chi2_stat))\n",
    "display(\"p-value = \"+str(p_val))\n",
    "print('Ho = color is independent of brand')\n",
    "print ('As p value = 0.000 is so small so we reject the null hypothesis ')"
   ]
  },
  {
   "cell_type": "code",
   "execution_count": 28,
   "metadata": {},
   "outputs": [
    {
     "name": "stdout",
     "output_type": "stream",
     "text": [
      "state   alabama  arizona  arkansas  california  colorado  connecticut  \\\n",
      "color                                                                   \n",
      "black         5        5         3          34         3            6   \n",
      "blue          2        2         2          12         2            3   \n",
      "color:        0        0         0           1         0            0   \n",
      "gray          6       13         0          70         5            8   \n",
      "green         0        1         0           2         0            0   \n",
      "red           1        2         2          14         2            3   \n",
      "white         3       10         4          53         9            4   \n",
      "yellow        0        0         1           4         0            1   \n",
      "\n",
      "state   florida  georgia  idaho  illinois  ...  south carolina  tennessee  \\\n",
      "color                                      ...                              \n",
      "black        64        9      0        32  ...              10          8   \n",
      "blue         18        0      0         5  ...               2          2   \n",
      "color:        0        1      0         0  ...               0          0   \n",
      "gray         78       12      0        33  ...              28          7   \n",
      "green         1        2      0         1  ...               0          0   \n",
      "red          20        8      0        17  ...               2          3   \n",
      "white        59       18      2        24  ...              20          6   \n",
      "yellow        6        1      0         1  ...               2          0   \n",
      "\n",
      "state   texas  utah  vermont  virginia  washington  west virginia  wisconsin  \\\n",
      "color                                                                          \n",
      "black      31     1        1        27           2              2         10   \n",
      "blue       13     0        0         5           2              0          7   \n",
      "color:      0     0        0         0           0              0          0   \n",
      "gray       60     3        0        33           4              5         34   \n",
      "green       1     0        0         3           0              0          2   \n",
      "red        11     1        1         5           0              4         13   \n",
      "white      95     5        0        17           6              9         27   \n",
      "yellow      3     0        0         0           0              1          1   \n",
      "\n",
      "state   wyoming  \n",
      "color            \n",
      "black         0  \n",
      "blue          0  \n",
      "color:        0  \n",
      "gray          0  \n",
      "green         0  \n",
      "red           0  \n",
      "white         1  \n",
      "yellow        0  \n",
      "\n",
      "[8 rows x 44 columns]\n"
     ]
    },
    {
     "data": {
      "text/plain": [
       "'chi2_stat = 394.4299205171015'"
      ]
     },
     "metadata": {},
     "output_type": "display_data"
    },
    {
     "data": {
      "text/plain": [
       "'p-value = 0.00023322654470791487'"
      ]
     },
     "metadata": {},
     "output_type": "display_data"
    },
    {
     "name": "stdout",
     "output_type": "stream",
     "text": [
      "Ho = color is independent of brand\n",
      "As p value = 0.000 is so small so we reject the null hypothesis \n"
     ]
    }
   ],
   "source": [
    "#b)\n",
    "\n",
    "data_crosstab = pd.crosstab(data['color'], data['state'], margins = False) \n",
    "print(data_crosstab)\n",
    "chi2_stat, p_val, dof, ex2 = stats.chi2_contingency(data_crosstab, correction=False)\n",
    "display(\"chi2_stat = \"+str(chi2_stat))\n",
    "display(\"p-value = \"+str(p_val))\n",
    "print('Ho = color is independent of state')\n",
    "print ('As p value = 0.000 is so small so we reject the null hypothesis ')"
   ]
  },
  {
   "cell_type": "code",
   "execution_count": 29,
   "metadata": {},
   "outputs": [
    {
     "name": "stdout",
     "output_type": "stream",
     "text": [
      "state      alabama  arizona  arkansas  california  colorado  connecticut  \\\n",
      "brand                                                                      \n",
      "chevrolet        0        1         3          14         6            0   \n",
      "dodge            2       10         0          32         4            2   \n",
      "ford            11        6         8          84        10           11   \n",
      "gmc              0        0         1          17         1            0   \n",
      "hyundai          0        0         0           1         0            2   \n",
      "kia              0        0         0           2         0            4   \n",
      "nissan           4       16         0          40         0            6   \n",
      "\n",
      "state      florida  georgia  idaho  illinois  ...  south carolina  tennessee  \\\n",
      "brand                                         ...                              \n",
      "chevrolet       21       14      0         8  ...               1          4   \n",
      "dodge           36       13      0        27  ...               8          2   \n",
      "ford           113       21      2        70  ...              47         12   \n",
      "gmc              0        0      0         0  ...               1          0   \n",
      "hyundai          2        0      0         0  ...               0          0   \n",
      "kia              0        0      0         0  ...               0          0   \n",
      "nissan          74        3      0         8  ...               7          8   \n",
      "\n",
      "state      texas  utah  vermont  virginia  washington  west virginia  \\\n",
      "brand                                                                  \n",
      "chevrolet     29     0        0         1           8             11   \n",
      "dodge         29     2        0         9           4              3   \n",
      "ford         147     2        0        62           2              7   \n",
      "gmc            0     6        0        10           0              0   \n",
      "hyundai        0     0        0         0           0              0   \n",
      "kia            0     0        0         0           0              0   \n",
      "nissan         9     0        2         8           0              0   \n",
      "\n",
      "state      wisconsin  wyoming  \n",
      "brand                          \n",
      "chevrolet         25        1  \n",
      "dodge             13        0  \n",
      "ford              51        0  \n",
      "gmc                0        0  \n",
      "hyundai            0        0  \n",
      "kia                0        0  \n",
      "nissan             5        0  \n",
      "\n",
      "[7 rows x 44 columns]\n"
     ]
    },
    {
     "data": {
      "text/plain": [
       "'chi2_stat = 1632.874591837825'"
      ]
     },
     "metadata": {},
     "output_type": "display_data"
    },
    {
     "data": {
      "text/plain": [
       "'p-value = 4.362063685944677e-198'"
      ]
     },
     "metadata": {},
     "output_type": "display_data"
    },
    {
     "name": "stdout",
     "output_type": "stream",
     "text": [
      "Ho = barnd is independent of state\n",
      "As p value = 0.000 is so small so we reject the null hypothesis \n"
     ]
    }
   ],
   "source": [
    "#c\n",
    "data_crosstab = pd.crosstab(data['brand'], data['state'], margins = False) \n",
    "print(data_crosstab)\n",
    "chi2_stat, p_val, dof, ex2 = stats.chi2_contingency(data_crosstab, correction=False)\n",
    "display(\"chi2_stat = \"+str(chi2_stat))\n",
    "display(\"p-value = \"+str(p_val))\n",
    "print('Ho = barnd is independent of state')\n",
    "print ('As p value = 0.000 is so small so we reject the null hypothesis ')"
   ]
  },
  {
   "cell_type": "markdown",
   "metadata": {},
   "source": [
    "Assignment 4"
   ]
  },
  {
   "cell_type": "code",
   "execution_count": 46,
   "metadata": {},
   "outputs": [
    {
     "data": {
      "text/latex": [
       "Married:"
      ],
      "text/plain": [
       "<IPython.core.display.Latex object>"
      ]
     },
     "metadata": {},
     "output_type": "display_data"
    },
    {
     "data": {
      "text/latex": [
       "$$Q_1 = 73.98370442663699$$"
      ],
      "text/plain": [
       "<IPython.core.display.Latex object>"
      ]
     },
     "metadata": {},
     "output_type": "display_data"
    },
    {
     "data": {
      "text/latex": [
       "$$Q_2 = 79.86651008376941$$"
      ],
      "text/plain": [
       "<IPython.core.display.Latex object>"
      ]
     },
     "metadata": {},
     "output_type": "display_data"
    },
    {
     "data": {
      "text/latex": [
       "$$Q_3 = 91.78814614226425$$"
      ],
      "text/plain": [
       "<IPython.core.display.Latex object>"
      ]
     },
     "metadata": {},
     "output_type": "display_data"
    },
    {
     "data": {
      "text/latex": [
       "\\mu = 81.34642190089252"
      ],
      "text/plain": [
       "<IPython.core.display.Latex object>"
      ]
     },
     "metadata": {},
     "output_type": "display_data"
    },
    {
     "data": {
      "text/latex": [
       "$$\\sigma = 13.34$$"
      ],
      "text/plain": [
       "<IPython.core.display.Latex object>"
      ]
     },
     "metadata": {},
     "output_type": "display_data"
    },
    {
     "data": {
      "text/latex": [
       "$$\\sigma^2 = 177.94$$"
      ],
      "text/plain": [
       "<IPython.core.display.Latex object>"
      ]
     },
     "metadata": {},
     "output_type": "display_data"
    },
    {
     "data": {
      "text/latex": [
       "Singles:"
      ],
      "text/plain": [
       "<IPython.core.display.Latex object>"
      ]
     },
     "metadata": {},
     "output_type": "display_data"
    },
    {
     "data": {
      "text/latex": [
       "$$Q_1 = 65.85801641799878$$"
      ],
      "text/plain": [
       "<IPython.core.display.Latex object>"
      ]
     },
     "metadata": {},
     "output_type": "display_data"
    },
    {
     "data": {
      "text/latex": [
       "$$Q_2 = 77.79706861483618$$"
      ],
      "text/plain": [
       "<IPython.core.display.Latex object>"
      ]
     },
     "metadata": {},
     "output_type": "display_data"
    },
    {
     "data": {
      "text/latex": [
       "$$Q_3 = 88.45431126761032$$"
      ],
      "text/plain": [
       "<IPython.core.display.Latex object>"
      ]
     },
     "metadata": {},
     "output_type": "display_data"
    },
    {
     "data": {
      "text/latex": [
       "$$\\mu = 76.32497910950228$$"
      ],
      "text/plain": [
       "<IPython.core.display.Latex object>"
      ]
     },
     "metadata": {},
     "output_type": "display_data"
    },
    {
     "data": {
      "text/latex": [
       "$$\\sigma = 15.25$$"
      ],
      "text/plain": [
       "<IPython.core.display.Latex object>"
      ]
     },
     "metadata": {},
     "output_type": "display_data"
    },
    {
     "data": {
      "text/latex": [
       "$$\\sigma^2 = 232.47$$"
      ],
      "text/plain": [
       "<IPython.core.display.Latex object>"
      ]
     },
     "metadata": {},
     "output_type": "display_data"
    }
   ],
   "source": [
    "from IPython.display import display,Latex,HTML,Math\n",
    "df=pd.read_excel(\"lifespan_civil_status.xlsx\")\n",
    "df.head()\n",
    "# a)\n",
    "display(Latex(\"Married:\"))\n",
    "display(Latex(\"$$Q_1 = {}$$\".format(np.percentile(df['Married'],25))))\n",
    "display(Latex(\"$$Q_2 = {}$$\".format(np.percentile(df['Married'],50))))\n",
    "display(Latex(\"$$Q_3 = {}$$\".format(np.percentile(df['Married'],75))))\n",
    "display(Latex(\"\\mu = {}\".format(df['Married'].mean())))\n",
    "display(Latex(\"$$\\sigma = {}$$\".format(round(df['Married'].std(ddof=1),2))))\n",
    "display(Latex(\"$$\\sigma^2 = {}$$\".format(round(df['Married'].var(ddof=1),2))))\n",
    "display(Latex(\"Singles:\"))\n",
    "display(Latex(\"$$Q_1 = {}$$\".format(np.percentile(df['Singles'],25))))\n",
    "display(Latex(\"$$Q_2 = {}$$\".format(np.percentile(df['Singles'],50))))\n",
    "display(Latex(\"$$Q_3 = {}$$\".format(np.percentile(df['Singles'],75))))\n",
    "display(Latex(\"$$\\mu = {}$$\".format(df['Singles'].mean())))\n",
    "display(Latex(\"$$\\sigma = {}$$\".format(round(df['Singles'].std(ddof=1),2))))\n",
    "display(Latex(\"$$\\sigma^2 = {}$$\".format(round(df['Singles'].var(ddof=1),2))))"
   ]
  },
  {
   "cell_type": "code",
   "execution_count": 49,
   "metadata": {},
   "outputs": [
    {
     "data": {
      "text/latex": [
       "A 95 % confidence interval for the sample mean of the married is [78.7 ; 83.993]"
      ],
      "text/plain": [
       "<IPython.core.display.Latex object>"
      ]
     },
     "metadata": {},
     "output_type": "display_data"
    },
    {
     "data": {
      "text/latex": [
       "A 95 % confidence interval for the sample mean of the singles is [73.3 ; 79.35]"
      ],
      "text/plain": [
       "<IPython.core.display.Latex object>"
      ]
     },
     "metadata": {},
     "output_type": "display_data"
    },
    {
     "data": {
      "image/png": "[encoded data removed]",
      "text/plain": [
       "<Figure size 432x288 with 1 Axes>"
      ]
     },
     "metadata": {
      "needs_background": "light"
     },
     "output_type": "display_data"
    }
   ],
   "source": [
    "# b)\n",
    "n10=len(df['Married'])\n",
    "m10=np.mean(df['Married'])\n",
    "SE10=stats.sem(df['Married'])\n",
    "Level=0.95\n",
    "CI10=stats.t.interval(Level,n10-1,loc=m10,scale=SE10)\n",
    "\n",
    "n20=len(df['Singles'])\n",
    "m20=np.mean(df['Singles'])\n",
    "SE20=stats.sem(df['Singles'])\n",
    "CI20=stats.t.interval(Level,n20-1,loc=m20,scale=SE20)\n",
    "display(Latex('A '+repr(int(Level*100))+' % confidence interval for the sample mean of the married is ['+repr(round(CI10[0],3))+' ; '+repr(round(CI10[1],3))+']'))\n",
    "display(Latex('A '+repr(int(Level*100))+' % confidence interval for the sample mean of the singles is ['+repr(round(CI20[0],3))+' ; '+repr(round(CI20[1],3))+']'))\n",
    "plt.figure()\n",
    "x10=np.linspace(m10-4*SE10,m10+4*SE10,1000)\n",
    "z10=np.linspace(CI10[0],CI10[1],1000)\n",
    "y10=stats.t.pdf(x10,n10-1,m10,SE10)\n",
    "plt.plot(x10,y10,color='red')\n",
    "plt.fill_between(z10,stats.t.pdf(z10,n10-1,m10,SE10),color='red',alpha=0.4)\n",
    "x20=np.linspace(m20-4*SE20,m20+4*SE20,1000)\n",
    "z20=np.linspace(CI20[0],CI20[1],1000)\n",
    "y20=stats.t.pdf(x20,n20-1,m20,SE20)\n",
    "plt.plot(x20,y20,color='green')\n",
    "plt.fill_between(z20,stats.t.pdf(z20,n20-1,m20,SE20),color='green',alpha=0.4)\n",
    "plt.show()"
   ]
  },
  {
   "cell_type": "code",
   "execution_count": 50,
   "metadata": {},
   "outputs": [
    {
     "data": {
      "image/png": "[encoded data removed]",
      "text/plain": [
       "<Figure size 432x288 with 1 Axes>"
      ]
     },
     "metadata": {
      "needs_background": "light"
     },
     "output_type": "display_data"
    },
    {
     "name": "stdout",
     "output_type": "stream",
     "text": [
      "Skewness = -0.4183\n",
      "Kurtosis = -0.1693\n",
      "KurtosistestResult(statistic=-0.08085707250193754, pvalue=0.935555619313622)\n"
     ]
    },
    {
     "data": {
      "image/png": "[encoded data removed]",
      "text/plain": [
       "<Figure size 432x288 with 1 Axes>"
      ]
     },
     "metadata": {
      "needs_background": "light"
     },
     "output_type": "display_data"
    }
   ],
   "source": [
    "# c)\n",
    "stats.probplot(df['Married'],plot=plt)\n",
    "plt.ylabel('Married')\n",
    "plt.show()\n",
    "print('Skewness = '+repr(round(stats.skew(df['Married']),4)))\n",
    "print('Kurtosis = '+repr(round(stats.kurtosis(df['Married']),4)))\n",
    "print(stats.kurtosistest(df['Married']))\n",
    "fig,ax=plt.subplots()\n",
    "df['Married'].plot.kde(ax=ax,legend=False,title='Distribution Married');"
   ]
  },
  {
   "cell_type": "code",
   "execution_count": 51,
   "metadata": {},
   "outputs": [
    {
     "data": {
      "image/png": "[encoded data removed]",
      "text/plain": [
       "<Figure size 432x288 with 1 Axes>"
      ]
     },
     "metadata": {
      "needs_background": "light"
     },
     "output_type": "display_data"
    },
    {
     "name": "stdout",
     "output_type": "stream",
     "text": [
      "Skewness = -0.3544\n",
      "Kurtosis = -0.4439\n",
      "KurtosistestResult(statistic=-0.8877084389890614, pvalue=0.3746976053015817)\n"
     ]
    },
    {
     "data": {
      "image/png": "[encoded data removed]",
      "text/plain": [
       "<Figure size 432x288 with 1 Axes>"
      ]
     },
     "metadata": {
      "needs_background": "light"
     },
     "output_type": "display_data"
    }
   ],
   "source": [
    "stats.probplot(df['Singles'],plot=plt)\n",
    "plt.ylabel('Singles')\n",
    "plt.show()\n",
    "print('Skewness = '+repr(round(stats.skew(df['Singles']),4)))\n",
    "print('Kurtosis = '+repr(round(stats.kurtosis(df['Singles']),4)))\n",
    "print(stats.kurtosistest(df['Singles']))\n",
    "fig,ax=plt.subplots()\n",
    "df['Singles'].plot.kde(ax=ax,legend=False,title='Distribution Singles');"
   ]
  },
  {
   "cell_type": "code",
   "execution_count": 52,
   "metadata": {},
   "outputs": [
    {
     "data": {
      "text/latex": [
       "A 99 % confidence interval for the mean difference of the two models is [-0.248 ; 10.29]"
      ],
      "text/plain": [
       "<IPython.core.display.Latex object>"
      ]
     },
     "metadata": {},
     "output_type": "display_data"
    },
    {
     "data": {
      "image/png": "[encoded data removed]",
      "text/plain": [
       "<Figure size 432x288 with 1 Axes>"
      ]
     },
     "metadata": {
      "needs_background": "light"
     },
     "output_type": "display_data"
    }
   ],
   "source": [
    "# d)\n",
    "diff=abs(m10-m20)\n",
    "std=np.sqrt(df['Married'].var(ddof=1)/n10+df['Singles'].var(ddof=1)/n20)\n",
    "Level=0.99\n",
    "CIdiff=stats.t.interval(Level,df=(n10+n20-2),loc=diff,scale=std)\n",
    "display(Latex('A '+repr(int(Level*100))+' % confidence interval for the mean difference of the two models is ['+repr(round(CIdiff[0],3))+' ; '+repr(round(CIdiff[1],3))+']'))\n",
    "xdiff=np.linspace(diff-4*std,diff+4*std,1000)\n",
    "zdiff=np.linspace(CIdiff[0],CIdiff[1],1000)\n",
    "ydiff=stats.t.pdf(xdiff,n10+n20-2,diff,std)\n",
    "plt.plot(xdiff,ydiff,color='red')\n",
    "plt.fill_between(zdiff,stats.t.pdf(zdiff,n10+n20-2,diff,std),color='red',alpha=0.4)\n",
    "plt.show()"
   ]
  },
  {
   "cell_type": "code",
   "execution_count": 53,
   "metadata": {},
   "outputs": [
    {
     "name": "stdout",
     "output_type": "stream",
     "text": [
      "Reject since p-value = 0.014 < 0.05\n"
     ]
    }
   ],
   "source": [
    "# e)\n",
    "# H0: Mean difference is 0\n",
    "# H1: Mean difference is not 0\n",
    "alpha=0.05\n",
    "p=stats.t.cdf(diff,df=n10+n20-2,loc=0,scale=std)\n",
    "pvalue=2*min(p,1-p)\n",
    "if round(pvalue,4)<alpha:\n",
    "    print(\"Reject since p-value = \"+repr(round(pvalue,4))+' < '+repr(alpha))\n",
    "else:\n",
    "    print(\"Fail to reject since p-value = \"+repr(round(pvalue,4))+' > '+repr(alpha))"
   ]
  },
  {
   "cell_type": "code",
   "execution_count": 55,
   "metadata": {},
   "outputs": [
    {
     "name": "stdout",
     "output_type": "stream",
     "text": [
      "Reject since p-value = 0.014 < 0.05\n"
     ]
    }
   ],
   "source": [
    "# f)\n",
    "# H0: Standard deviations are equal\n",
    "# H1: Standard deviations are not equal\n",
    "alpha=0.05\n",
    "p=stats.f.cdf(df['Married'].var(ddof=1)/df['Singles'].var(ddof=1),dfn=n10-1,dfd=n20-1)\n",
    "p_value=2*min(p,1-p)\n",
    "if round(pvalue,4)<alpha:\n",
    "    print(\"Reject since p-value = \"+repr(round(pvalue,4))+' < '+repr(alpha))\n",
    "else:\n",
    "    print(\"Fail to reject since p-value = \"+repr(round(pvalue,4))+' > '+repr(alpha))"
   ]
  },
  {
   "cell_type": "code",
   "execution_count": null,
   "metadata": {},
   "outputs": [],
   "source": []
  }
 ],
 "metadata": {
  "kernelspec": {
   "display_name": "Python 3",
   "language": "python",
   "name": "python3"
  },
  "language_info": {
   "codemirror_mode": {
    "name": "ipython",
    "version": 3
   },
   "file_extension": ".py",
   "mimetype": "text/x-python",
   "name": "python",
   "nbconvert_exporter": "python",
   "pygments_lexer": "ipython3",
   "version": "3.8.5"
  }
 },
 "nbformat": 4,
 "nbformat_minor": 2
}
